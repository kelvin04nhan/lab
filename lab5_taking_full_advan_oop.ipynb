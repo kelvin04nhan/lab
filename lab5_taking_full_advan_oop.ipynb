{
 "cells": [
  {
   "cell_type": "code",
   "execution_count": 1,
   "metadata": {},
   "outputs": [],
   "source": [
    "class Vector3D:\n",
    "    def __init__(self, x, y, z):\n",
    "        self.x = x\n",
    "        self.y = y\n",
    "        self.z = z\n",
    "        \n",
    "class SceneElement:\n",
    "    def __init__(self, location):\n",
    "        self.location = location\n",
    "        \n",
    "class Light(SceneElement):\n",
    "    def __init__(self, location):\n",
    "        super().__init__(location)\n",
    "        \n",
    "class DirectionalLight(Light):\n",
    "    def __init__(self, location, color):\n",
    "        super().__init__(location)\n",
    "        self.color = color\n",
    "        \n",
    "class Camera(SceneElement):\n",
    "    def __init__(self, location):\n",
    "        super().__init__(location)\n",
    "        \n",
    "class PerspectiveCamera(Camera):\n",
    "    def __init__(self, location, direction, vector, field_of_view,\n",
    "                 near_clipping_plane, far_clipping_plane):\n",
    "        super().__init__(location)\n",
    "        self.direction = direction\n",
    "        self.vector = vector\n",
    "        self.field_of_view = field_of_view\n",
    "        self.near_clipping_plane = near_clipping_plane\n",
    "        self.far_clipping_plane = far_clipping_plane"
   ]
  },
  {
   "cell_type": "code",
   "execution_count": 2,
   "metadata": {},
   "outputs": [],
   "source": [
    "class Shape(SceneElement):\n",
    "    def __init__(self, location):\n",
    "        super().__init__(location)\n",
    "        \n",
    "    def render(self, camera, lights):\n",
    "        pass\n",
    "    \n",
    "class Sphere(Shape):\n",
    "    def __init__(self, location, radius):\n",
    "        super().__init__(location)\n",
    "        self.radius = radius\n",
    "        \n",
    "    def render(self, camera, lights):\n",
    "        print(\"Rendering a sphere.\")\n",
    "        "
   ]
  },
  {
   "cell_type": "code",
   "execution_count": 3,
   "metadata": {},
   "outputs": [],
   "source": [
    "class Cude(Shape):\n",
    "    def __init__(self, location, edge_length):\n",
    "        super().__init__(location)\n",
    "        self.edge_length = edge_length\n",
    "        \n",
    "    def render(self, camera, lights):\n",
    "        print('Rendering a cube')"
   ]
  },
  {
   "cell_type": "code",
   "execution_count": 7,
   "metadata": {},
   "outputs": [],
   "source": [
    "class Scene:\n",
    "    def __init__(self, intial_camera):\n",
    "        self.active_camera = intial_camera\n",
    "        self.shapes = []\n",
    "        self.lights = []\n",
    "        \n",
    "    def add_light(self, light):\n",
    "        self.lights.append(light)\n",
    "        \n",
    "        \n",
    "    def add_shape(self, shape):\n",
    "        self.shapes.append(shape)\n",
    "        \n",
    "    def render(self):\n",
    "        for shape in self.shapes:\n",
    "            shape.render(self.active_camera, self.lights)"
   ]
  },
  {
   "cell_type": "code",
   "execution_count": 8,
   "metadata": {},
   "outputs": [
    {
     "name": "stdout",
     "output_type": "stream",
     "text": [
      "Rendering a sphere.\n",
      "Rendering a cube\n"
     ]
    }
   ],
   "source": [
    "if __name__ == '__main__':\n",
    "    camera = PerspectiveCamera(Vector3D(30, 30, 30), Vector3D(50, 0, 0),\n",
    "                               Vector3D(4, 5, 2), 90, 20, 40)\n",
    "    sphere = Sphere(Vector3D(20, 20, 20), 8)\n",
    "    cube = Cude(Vector3D(10, 10, 10), 5)\n",
    "    light = DirectionalLight(Vector3D(2, 2, 5), 235)\n",
    "    scene = Scene(camera)\n",
    "    scene.add_shape(sphere)\n",
    "    scene.add_shape(cube)\n",
    "    scene.add_light(light)\n",
    "    scene.render()"
   ]
  }
 ],
 "metadata": {
  "kernelspec": {
   "display_name": "Python 3",
   "language": "python",
   "name": "python3"
  },
  "language_info": {
   "codemirror_mode": {
    "name": "ipython",
    "version": 3
   },
   "file_extension": ".py",
   "mimetype": "text/x-python",
   "name": "python",
   "nbconvert_exporter": "python",
   "pygments_lexer": "ipython3",
   "version": "3.10.11"
  }
 },
 "nbformat": 4,
 "nbformat_minor": 2
}
