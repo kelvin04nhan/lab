{
 "cells": [
  {
   "cell_type": "code",
   "execution_count": 4,
   "metadata": {},
   "outputs": [
    {
     "name": "stdout",
     "output_type": "stream",
     "text": [
      "This is instance\n",
      "<class 'type'>\n"
     ]
    }
   ],
   "source": [
    "class Rectangle:\n",
    "    def __init__(self):\n",
    "        print(\"This is instance\")\n",
    "        \n",
    "    \n",
    "rec1 = Rectangle()\n",
    "print(type(Rectangle))"
   ]
  },
  {
   "cell_type": "code",
   "execution_count": 6,
   "metadata": {},
   "outputs": [
    {
     "name": "stdout",
     "output_type": "stream",
     "text": [
      " i'm initalizing a new Rectangle instance \n",
      "Your weight is 10 and your height is 5\n"
     ]
    }
   ],
   "source": [
    "class Rectangle:\n",
    "    def __init__(self, width, height):\n",
    "        print(\" i'm initalizing a new Rectangle instance \")\n",
    "        self.width = width\n",
    "        self.height = height\n",
    "        \n",
    "    def __str__(self):\n",
    "        return f\"Your weight is {self.width} and your height is {self.height}\"\n",
    "    \n",
    "rec1 = Rectangle(10, 5)\n",
    "print(rec1)\n",
    "    \n"
   ]
  },
  {
   "cell_type": "code",
   "execution_count": 15,
   "metadata": {},
   "outputs": [
    {
     "name": "stdout",
     "output_type": "stream",
     "text": [
      "The instance deleted\n",
      "None\n"
     ]
    }
   ],
   "source": [
    "class Dog:\n",
    "    \n",
    "    #class variable\n",
    "    animal = 'Dog'\n",
    "    \n",
    "    #The init method or constructor\n",
    "    def __init__(self, breed, color):\n",
    "        \n",
    "        #instance variable\n",
    "        self.breed = breed\n",
    "        self.color = color\n",
    "        \n",
    "        \n",
    "    def __del__(self):\n",
    "        print( f\"The instance deleted\")\n",
    "\n",
    "\n",
    "dog = Dog(10, 5)\n",
    "dog2 = dog\n",
    "dog2 = None\n",
    "print(dog2)   "
   ]
  },
  {
   "cell_type": "code",
   "execution_count": 29,
   "metadata": {},
   "outputs": [
    {
     "name": "stdout",
     "output_type": "stream",
     "text": [
      "My name is Nhan. Im 19 year old. Hello \n",
      "Hello. My name is Quang and 19\n"
     ]
    }
   ],
   "source": [
    "class Person:\n",
    "    def __init__(self, age, name):\n",
    "        self.age = age\n",
    "        self.name = name\n",
    "        \n",
    "        \n",
    "    def say_hi(self):\n",
    "        print(f'My name is {self.name}. Im {self.age} year old. Hello ')\n",
    "        \n",
    "    @classmethod\n",
    "    def introduce(cls, other):\n",
    "        if isinstance(other, cls):\n",
    "            print(f\"Hello. My name is {other.name} and {other.age}\")\n",
    "        else:\n",
    "            print('Invalid object passed to introduce')\n",
    "person1 = Person(19, 'Nhan')\n",
    "person2 = Person(19, 'Quang')\n",
    "person1.say_hi()    \n",
    "person1.introduce(person2)"
   ]
  },
  {
   "cell_type": "code",
   "execution_count": 30,
   "metadata": {},
   "outputs": [
    {
     "name": "stdout",
     "output_type": "stream",
     "text": [
      "My name is Nhan. I'm 19 years old. Hello!\n",
      "Hello. My name is Quang and I am 19 years old.\n",
      "Hello. My name is Dat and I am 19 years old.\n"
     ]
    }
   ],
   "source": [
    "class Person:\n",
    "    def __init__(self, age, name):\n",
    "        self.age = age\n",
    "        self.name = name\n",
    "\n",
    "    def say_hi(self):\n",
    "        print(f'My name is {self.name}. I\\'m {self.age} years old. Hello!')\n",
    "\n",
    "    @classmethod\n",
    "    def introduce(cls, other):\n",
    "        if isinstance(other, cls):\n",
    "            print(f\"Hello. My name is {other.name} and I am {other.age} years old.\")\n",
    "        else:\n",
    "            print('Invalid object passed to introduce')\n",
    "\n",
    "person1 = Person(19, 'Nhan')\n",
    "person2 = Person(19, 'Quang')\n",
    "person1.say_hi()\n",
    "Person.introduce(person2)\n",
    "person1.introduce(Person(19, 'Dat'))\n"
   ]
  },
  {
   "cell_type": "code",
   "execution_count": 34,
   "metadata": {},
   "outputs": [
    {
     "name": "stdout",
     "output_type": "stream",
     "text": [
      "Đã khởi tạo \n",
      "Đã khởi tạo \n",
      "None\n",
      "Number of object: 2\n"
     ]
    }
   ],
   "source": [
    "class Rectangle:\n",
    "    object_count = 0\n",
    "    def __init__(self, height, weight):\n",
    "        self.height = height\n",
    "        self.weight = weight\n",
    "        Rectangle.object_count += 1\n",
    "        \n",
    "    def __str__(self):\n",
    "        return 'Đã khởi tạo '\n",
    "    def __del__(self):\n",
    "        return f'phương thức đã bị hủy'\n",
    "        object_count -= 1\n",
    "    \n",
    "rec1 = Rectangle(100, 40)\n",
    "rec2 = Rectangle(30, 49)\n",
    "rec3 = None\n",
    "print(rec1)\n",
    "print(rec2)\n",
    "print(rec3)\n",
    "print(f\"Number of object: {Rectangle.object_count}\")\n",
    "        "
   ]
  },
  {
   "cell_type": "markdown",
   "metadata": {},
   "source": [
    "Xây dựng lớp sinh viên bao gồm: \n",
    "- Mã số, họ tên và năm sinh \n",
    "- Hàm khởi tạo (constructor) 3 tham số để khởi tạo giá trị cho Mã số, Họ tên và Năm \n",
    "sinh \n",
    "- Hàm nhập Mã số, Họ tên và Năm sinh từ người dùng \n",
    "- Hàm tính tuổi dựa vào năm sinh \n",
    "- Hàm xuất 1 dòng bao gồm Mã số, Họ tên và tuổi hiện tại"
   ]
  },
  {
   "cell_type": "code",
   "execution_count": 43,
   "metadata": {},
   "outputs": [
    {
     "name": "stdout",
     "output_type": "stream",
     "text": [
      "Nhan 222 20 years old\n"
     ]
    },
    {
     "data": {
      "text/plain": [
       "'Nhan 222 20 years old'"
      ]
     },
     "execution_count": 43,
     "metadata": {},
     "output_type": "execute_result"
    }
   ],
   "source": [
    "class Student:\n",
    "    def __init__(self, studentID, name, yearOfBirth):\n",
    "        self.studentID = studentID\n",
    "        self.name = name\n",
    "        self.yearOfBirth = yearOfBirth\n",
    "        \n",
    "    '''Get user input'''\n",
    "    def getStudentInput(self):\n",
    "        self.studentID = input(\"Enter your id: \")\n",
    "        self.name = input('Enter your name: ')\n",
    "        self.yearOfBirth = input('Enter your birth: ')\n",
    "        \n",
    "        \n",
    "    def calculateAge(self):\n",
    "        if isinstance(self, Student):\n",
    "            return 2024 - self.yearOfBirth\n",
    "        return 'Invalid syntag'\n",
    "    \n",
    "    def __str__(self):\n",
    "        age = self.calculateAge()\n",
    "        return f\"{self.name} {self.studentID} {age} years old\"\n",
    "        \n",
    "        \n",
    "    def getInfo(self):\n",
    "        age = self.calculateAge()\n",
    "        return f\"{self.name} {self.studentID} {age} years old\"\n",
    "        \n",
    "student1 = Student('222','Nhan',2004)\n",
    "student2 = Student('223','Quang',2004)\n",
    "print(student1)\n",
    "\n",
    "student1.getInfo()\n",
    "        "
   ]
  },
  {
   "cell_type": "code",
   "execution_count": 3,
   "metadata": {},
   "outputs": [
    {
     "name": "stdout",
     "output_type": "stream",
     "text": [
      "60.0\n"
     ]
    }
   ],
   "source": [
    "class Rectangle:\n",
    "    def __init__(self, length, width):\n",
    "        '''Check var condition'''\n",
    "        if not isinstance(length, float):\n",
    "            raise TypeError(\"length should be a float.\")\n",
    "        if not isinstance(width, float):\n",
    "            raise TypeError(\"width should be a float.\")\n",
    "            \n",
    "            \n",
    "        self.length = length\n",
    "        self.width = width  \n",
    "    def getLength(self):\n",
    "        return self.length\n",
    "    \n",
    "    def setLength(self, length):\n",
    "        if not isinstance(length, float):\n",
    "            raise TypeError(\"length should be a float.\")\n",
    "        else: self.length = length\n",
    "        \n",
    "        \n",
    "    def getWidth(self):\n",
    "        return self.width\n",
    "    \n",
    "    def setLength(self, width):\n",
    "        if not isinstance(width, float):\n",
    "            raise TypeError(\"width should be a float.\")\n",
    "        else: self.width = width\n",
    "        \n",
    "    def getArea(self):\n",
    "        return self.width * self.length\n",
    "    \n",
    "    def getPerimeter(self):\n",
    "        return (self.width + self.length) * 2\n",
    "    \n",
    "    def __str__(self):\n",
    "        return f'Rectangle[{self.length}, {self.width}]'\n",
    "        \n",
    "rec1 = Rectangle(7.5, 8.0)       \n",
    "        \n",
    "print(rec1.getArea())\n",
    "        \n"
   ]
  },
  {
   "cell_type": "code",
   "execution_count": 10,
   "metadata": {},
   "outputs": [],
   "source": [
    "# bài sai ở funtion tranferTo sai vì lỗi logic kiểm tra float int\n",
    "\n",
    "class Account:\n",
    "    def __init__(self, number, balance):\n",
    "        if not isinstance(number, int):\n",
    "            raise TypeError('number should be type int ')\n",
    "        if not isinstance(balance, float):\n",
    "            raise TypeError('Balance should be double')\n",
    "        \n",
    "        self.number = number\n",
    "        self.balance = balance\n",
    "        \n",
    "    def getNumber(self):\n",
    "        return self.number\n",
    "      \n",
    "    def getBalance(self):\n",
    "        return self.balance\n",
    "    \n",
    "    def __str__(self):\n",
    "        return f\"Account[number ={self.number}, balance = ${self.balance}]\"\n",
    "    \n",
    "    def credit(self, amount):\n",
    "        if isinstance(amount, float):\n",
    "            if self.balance >= self.amount:\n",
    "                self.balance -= self.amount\n",
    "            else: print('Amount exceeded')\n",
    "        else:\n",
    "            print('Invalid amount type. Please provide a float value.')       \n",
    "                    \n",
    "    def debit(self, amount):\n",
    "        if isinstance(amount, float):\n",
    "            if self.balance >= self.amount:\n",
    "                self.balance -= self.amount\n",
    "            else: print('Amount exceeded')\n",
    "        else:\n",
    "            print('Invalid amount type. Please provide a float value.')        \n",
    "            \n",
    "    def transferTo(self, destination_account, amount):\n",
    "        if not isinstance(destination_account, Account):\n",
    "            raise TypeError('Destination account should be subclass of Account')\n",
    "        if not isinstance(destination_account, float):\n",
    "            raise TypeError('Destination account should be float')\n",
    "            \n",
    "        self.destination_account = destination_account\n",
    "        if self.balance >= amount:\n",
    "            self.balance -= amount\n",
    "            self.destination_account += amount\n",
    "            print(f\"{self.number} tranfer to {destination_account}: {amount}\")\n",
    "            \n",
    "        else: print('Amount exceeded')\n",
    "            "
   ]
  },
  {
   "cell_type": "code",
   "execution_count": 1,
   "metadata": {},
   "outputs": [
    {
     "name": "stdout",
     "output_type": "stream",
     "text": [
      "Initial state:\n",
      "Account[number=1, balance=$100.0]\n",
      "Account[number=2, balance=$50.0]\n",
      "\n",
      "After credit and debit:\n",
      "Account[number=1, balance=$200.0]\n",
      "Account[number=2, balance=$20.0]\n",
      "1 transferred to 2: $70.0\n",
      "\n",
      "After transfer:\n",
      "Account[number=1, balance=$130.0]\n",
      "Account[number=2, balance=$90.0]\n"
     ]
    }
   ],
   "source": [
    "# bài đã sữa\n",
    "\n",
    "class Account:\n",
    "    def __init__(self, number, balance):\n",
    "        if not isinstance(number, int):\n",
    "            raise TypeError('number should be type int')\n",
    "        if not isinstance(balance, float):\n",
    "            raise TypeError('Balance should be float')  # Corrected the error message\n",
    "        \n",
    "        self.number = number\n",
    "        self.balance = balance\n",
    "\n",
    "    def getNumber(self):\n",
    "        return self.number\n",
    "\n",
    "    def getBalance(self):\n",
    "        return self.balance\n",
    "\n",
    "    def __str__(self):\n",
    "        return f\"Account[number={self.number}, balance=${self.balance}]\"\n",
    "\n",
    "    def credit(self, amount):\n",
    "        if isinstance(amount, (int, float)):\n",
    "            self.balance += amount\n",
    "        else:\n",
    "            print('Invalid amount type. Please provide an int or float value.')\n",
    "\n",
    "    def debit(self, amount):\n",
    "        if isinstance(amount, (int, float)):\n",
    "            if self.balance >= amount:\n",
    "                self.balance -= amount\n",
    "            else:\n",
    "                print('Insufficient funds')\n",
    "        else:\n",
    "            print('Invalid amount type. Please provide an int or float value.')\n",
    "\n",
    "    def transferTo(self, destination_account, amount):\n",
    "        if not isinstance(destination_account, Account):\n",
    "            raise TypeError('Destination account should be an instance of Account')\n",
    "        \n",
    "        if isinstance(amount, (int, float)):\n",
    "            if self.balance >= amount:\n",
    "                self.balance -= amount\n",
    "                destination_account.credit(amount)\n",
    "                print(f\"{self.number} transferred to {destination_account.getNumber()}: ${amount}\")\n",
    "            else:\n",
    "                print('Insufficient funds')\n",
    "        else:\n",
    "            print('Invalid amount type. Please provide an int or float value.')\n",
    "\n",
    "\n",
    "# Test code\n",
    "account1 = Account(1, 100.0)\n",
    "account2 = Account(2, 50.0)\n",
    "\n",
    "print(\"Initial state:\")\n",
    "print(account1)\n",
    "print(account2)\n",
    "\n",
    "account1.credit(100.0)\n",
    "account2.debit(30.0)\n",
    "\n",
    "print(\"\\nAfter credit and debit:\")\n",
    "print(account1)\n",
    "print(account2)\n",
    "\n",
    "account1.transferTo(account2, 70.0)\n",
    "\n",
    "print(\"\\nAfter transfer:\")\n",
    "print(account1)\n",
    "print(account2)\n"
   ]
  }
 ],
 "metadata": {
  "kernelspec": {
   "display_name": "Python 3",
   "language": "python",
   "name": "python3"
  },
  "language_info": {
   "codemirror_mode": {
    "name": "ipython",
    "version": 3
   },
   "file_extension": ".py",
   "mimetype": "text/x-python",
   "name": "python",
   "nbconvert_exporter": "python",
   "pygments_lexer": "ipython3",
   "version": "3.10.11"
  }
 },
 "nbformat": 4,
 "nbformat_minor": 2
}
