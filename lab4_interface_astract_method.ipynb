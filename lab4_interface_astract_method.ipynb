{
 "cells": [
  {
   "cell_type": "code",
   "execution_count": 1,
   "metadata": {},
   "outputs": [],
   "source": [
    "from abc import ABC\n",
    "class MyABC(ABC):\n",
    "    pass"
   ]
  },
  {
   "cell_type": "code",
   "execution_count": 2,
   "metadata": {},
   "outputs": [],
   "source": [
    "from abc import ABCMeta\n",
    "class MyABC(metaclass=ABCMeta):\n",
    "    pass"
   ]
  },
  {
   "cell_type": "code",
   "execution_count": 3,
   "metadata": {},
   "outputs": [
    {
     "name": "stdout",
     "output_type": "stream",
     "text": [
      "Creating a shape\n",
      "Drawing a rectangle\n"
     ]
    },
    {
     "ename": "TypeError",
     "evalue": "Can't instantiate abstract class Shape with abstract method draw",
     "output_type": "error",
     "traceback": [
      "\u001b[1;31m---------------------------------------------------------------------------\u001b[0m",
      "\u001b[1;31mTypeError\u001b[0m                                 Traceback (most recent call last)",
      "Cell \u001b[1;32mIn [3], line 15\u001b[0m\n\u001b[0;32m     13\u001b[0m r \u001b[38;5;241m=\u001b[39m Rectangle()\n\u001b[0;32m     14\u001b[0m r\u001b[38;5;241m.\u001b[39mdraw()\n\u001b[1;32m---> 15\u001b[0m s \u001b[38;5;241m=\u001b[39m \u001b[43mShape\u001b[49m\u001b[43m(\u001b[49m\u001b[43m)\u001b[49m\n",
      "\u001b[1;31mTypeError\u001b[0m: Can't instantiate abstract class Shape with abstract method draw"
     ]
    }
   ],
   "source": [
    "from abc import ABC, abstractclassmethod\n",
    "class Shape(ABC):\n",
    "    def __init__(self):\n",
    "        print(\"Creating a shape\")\n",
    "    @abstractclassmethod\n",
    "    def draw(self):\n",
    "        return NotImplemented\n",
    "    \n",
    "class Rectangle(Shape):\n",
    "    def draw(self):\n",
    "        print('Drawing a rectangle')\n",
    "# Test creating an instance from abstract class\n",
    "r = Rectangle()\n",
    "r.draw()\n",
    "s = Shape()"
   ]
  },
  {
   "cell_type": "code",
   "execution_count": 25,
   "metadata": {},
   "outputs": [],
   "source": [
    "# abstract methods\n",
    "from abc import ABCMeta, abstractmethod\n",
    "\n",
    "class Shape(metaclass = ABCMeta):\n",
    "    def __init__(self):\n",
    "        print('Creating a shape')\n",
    "    \n",
    "    @abstractmethod\n",
    "    def draw(self):\n",
    "        return NotImplemented\n",
    "    \n",
    "    @classmethod\n",
    "    @abstractmethod\n",
    "    def getShapeName(self):\n",
    "        return NotImplemented\n",
    "    \n"
   ]
  },
  {
   "cell_type": "code",
   "execution_count": 26,
   "metadata": {},
   "outputs": [],
   "source": [
    "# ABstract method - Not implemented?\n",
    "from abc import ABCMeta, abstractmethod\n",
    "class Shape(metaclass = ABCMeta):\n",
    "    def __init__(self):\n",
    "        print(\"Create a shape\")\n",
    "    @abstractmethod\n",
    "    def draw(self):\n",
    "        return NotImplemented\n",
    "    \n",
    "class Rectangle(Shape):\n",
    "    def __init__(self):\n",
    "        pass\n",
    "    def draw(self):\n",
    "        pass\n",
    "    \n",
    "r = Rectangle()"
   ]
  },
  {
   "cell_type": "code",
   "execution_count": 28,
   "metadata": {},
   "outputs": [],
   "source": [
    "# #Bai tap 1:\n",
    "# from abc import ABCMeta, abstractmethod\n",
    "\n",
    "# class Animal(metaclass = ABCMeta):\n",
    "#     def __init__(self,name):\n",
    "#         self.name = name\n",
    "#     @abstractmethod\n",
    "#     def greet(self):\n",
    "#         return NotImplemented\n",
    "# #create class cat   \n",
    "# class Cat(Animal):\n",
    "#     def __init__(self,name):\n",
    "#         super.__init__(name)\n",
    "#     def greet(self):\n",
    "#         print('Meow')\n",
    "        \n",
    "# class Dog(Animal):\n",
    "#     def __init__(self,name):\n",
    "#         super().__init__(name)\n",
    "#         print(\"The Dog was create\")\n",
    "#     def greet(self, *args):\n",
    "#         if len(args) ==0:\n",
    "#             return 'Woof'\n",
    "#         elif (len(args)==1) and (isinstance(args[0], Dog)):\n",
    "#             return 'Woooof'\n",
    "#         else:\n",
    "#              raise ValueError(\"Invalid number of arguments\")\n",
    "# class BigDog(Dog):\n",
    "#     def __init__(self, name):\n",
    "#         super().__init__(name)\n",
    "#         print(\"The Big Dog is create\")\n",
    "#     def greet(self, *args):\n",
    "#         if len(args)==0:\n",
    "#             return 'Woof'\n",
    "#         elif (len(args) == 1) and isinstance(args[0],Dog):\n",
    "#             return 'Wooooof'\n",
    "#         elif (len(args) == 2) and isinstance(args[0],BigDog):\n",
    "#             return 'Wooffffffffff'\n",
    "#         else:\n",
    "#              raise ValueError(\"Invalid number of arguments\")    \n",
    "# def main():\n",
    "\n",
    "#     c = Cat('MeoCHI')\n",
    "#     d = Dog('KIKI')\n",
    "#     bd = BigDog(\"dat\")\n",
    "\n",
    "#     c.greet()  # Meow\n",
    "#     d.greet()  # Woof\n",
    "#     d.greet('jake')  # Woooof\n",
    "#     bd.greet()  # Woof\n",
    "#     bd.greet('dat')  # Wooffffffffff dat\n",
    "#     bd.greet('jake', 'hello')  # Wooffffffffff hello\n",
    "\n",
    "# main()\n",
    "    "
   ]
  },
  {
   "cell_type": "code",
   "execution_count": 29,
   "metadata": {},
   "outputs": [
    {
     "name": "stdout",
     "output_type": "stream",
     "text": [
      "Meow, I'm MeoCHI!\n",
      "Woof, I'm KIKI!\n",
      "Woooof! Hello, fellow dog dat!\n",
      "Woof, I'm dat the Big Dog!\n",
      "Woooooof! Hello, fellow Big Dog dat!\n",
      "Wooffffffffff Welcome! dat greets you!\n"
     ]
    }
   ],
   "source": [
    "from abc import ABCMeta, abstractmethod\n",
    "\n",
    "class Animal(metaclass=ABCMeta):\n",
    "    def __init__(self, name):\n",
    "        self.name = name\n",
    "\n",
    "    @abstractmethod\n",
    "    def greet(self):\n",
    "        return NotImplemented\n",
    "\n",
    "class Cat(Animal):\n",
    "    def __init__(self, name):\n",
    "        super().__init__(name)\n",
    "\n",
    "    def greet(self):\n",
    "        print(f\"Meow, I'm {self.name}!\")\n",
    "\n",
    "class Dog(Animal):\n",
    "    def __init__(self, name):\n",
    "        super().__init__(name)\n",
    "\n",
    "    def greet(self, *args):\n",
    "        if len(args) == 0:\n",
    "            print(f\"Woof, I'm {self.name}!\")\n",
    "        elif len(args) == 1:\n",
    "            if isinstance(args[0], Dog):\n",
    "                print(f\"Woooof! Hello, fellow dog {args[0].name}!\")\n",
    "            else:\n",
    "                raise TypeError(\"Invalid argument type\")\n",
    "        else:\n",
    "            raise ValueError(\"Invalid number of arguments\")\n",
    "\n",
    "class BigDog(Dog):\n",
    "    def __init__(self, name):\n",
    "        super().__init__(name)\n",
    "\n",
    "    def greet(self, *args):\n",
    "        if len(args) == 0:\n",
    "            print(f\"Woof, I'm {self.name} the Big Dog!\")\n",
    "        elif len(args) == 1:\n",
    "            if isinstance(args[0], BigDog):\n",
    "                print(f\"Woooooof! Hello, fellow Big Dog {args[0].name}!\")\n",
    "            else:\n",
    "                super().greet(args[0])\n",
    "        elif len(args) == 2:\n",
    "            if isinstance(args[0], BigDog):\n",
    "                print(f\"Wooffffffffff {args[1]}! {args[0].name} greets you!\")\n",
    "            else:\n",
    "                raise TypeError(\"Invalid argument type\")\n",
    "        else:\n",
    "            raise ValueError(\"Invalid number of arguments\")\n",
    "\n",
    "def main():\n",
    "    c = Cat(\"MeoCHI\")\n",
    "    d = Dog(\"KIKI\")\n",
    "    bd = BigDog(\"dat\")\n",
    "\n",
    "    c.greet()\n",
    "    d.greet()\n",
    "    d.greet(bd)\n",
    "    bd.greet()\n",
    "    bd.greet(bd)\n",
    "    bd.greet(bd, \"Welcome\")\n",
    "\n",
    "main()\n"
   ]
  },
  {
   "cell_type": "code",
   "execution_count": null,
   "metadata": {},
   "outputs": [],
   "source": [
    "class Document:\n",
    "    def __init__(self)"
   ]
  }
 ],
 "metadata": {
  "kernelspec": {
   "display_name": "Python 3",
   "language": "python",
   "name": "python3"
  },
  "language_info": {
   "codemirror_mode": {
    "name": "ipython",
    "version": 3
   },
   "file_extension": ".py",
   "mimetype": "text/x-python",
   "name": "python",
   "nbconvert_exporter": "python",
   "pygments_lexer": "ipython3",
   "version": "3.10.11"
  }
 },
 "nbformat": 4,
 "nbformat_minor": 2
}
