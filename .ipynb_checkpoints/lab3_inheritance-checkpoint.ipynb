{
 "cells": [
  {
   "cell_type": "code",
   "execution_count": 4,
   "metadata": {},
   "outputs": [
    {
     "name": "stdout",
     "output_type": "stream",
     "text": [
      "A circle color: blue filled : True\n",
      "The raidus is 1\n",
      "The area is 3.141592653589793\n",
      "the diameter is 2\n",
      "\n",
      "A rectangle color: blue filled : True\n",
      "the area is 4\n",
      "the perimeter 14\n"
     ]
    }
   ],
   "source": [
    "#implementing inheritance\n",
    "#lớp đối tượng hình học\n",
    "class GeometricObject:\n",
    "    def __init__(self, color = 'blue', filled = True):\n",
    "        self.__color = color\n",
    "        self.__filled = filled\n",
    "        \n",
    "    @property\n",
    "    def color(self):\n",
    "        return self.__color\n",
    "    @color.setter\n",
    "    def color(self, color):\n",
    "        self.__color = color\n",
    "    @property\n",
    "    def filled(self):\n",
    "        return self.__filled\n",
    "    @filled.setter\n",
    "    def filled(self, filled):\n",
    "        self.filled = filled\n",
    "        \n",
    "    def __str__(self):\n",
    "        return 'color: ' + self.__color + \" filled : \" + str(self.__filled)\n",
    "    \n",
    "    \n",
    "import math\n",
    "class Circle(GeometricObject):\n",
    "    def __init__(self, radius):\n",
    "        #gọi phương thức từ lớp cha\n",
    "        super().__init__()\n",
    "        self.__radius = radius\n",
    "    \n",
    "    @property\n",
    "    def radius(self):\n",
    "        return self.__radius\n",
    "    @radius.setter\n",
    "    def   radius(self, radius):\n",
    "        self.__radius = radius\n",
    "        \n",
    "    def getArea(self):\n",
    "        return self.__radius * self.__radius * math.pi\n",
    "    # tihs đường kính hình tronf\n",
    "    \n",
    "    def getDiameter(self):\n",
    "        return 2 * self.__radius\n",
    "    \n",
    "    # tính chu vi hình tron\n",
    "    \n",
    "    def getPerimeter(self):\n",
    "        return 2 * self.__radius * math.pi\n",
    "    def printCircle(self):\n",
    "        print(self.__str__() + 'radius '+str(self.__radius))\n",
    "        \n",
    "        \n",
    "#lớp hình chữ nhật\n",
    "class Rectangle(GeometricObject):\n",
    "    def __init__(self, width = 1, height = 1):\n",
    "        super().__init__()\n",
    "        self.__width = width\n",
    "        self.__height = height\n",
    "        \n",
    "    @property\n",
    "    def width(self):\n",
    "        return self.__width\n",
    "    @width.setter\n",
    "    def width(self, width):\n",
    "        self.__width = width\n",
    "    \n",
    "    @property\n",
    "    def height(self):\n",
    "        return self.__height\n",
    "    @height.setter\n",
    "    def height(self, height):\n",
    "        self.height = height\n",
    "        \n",
    "    def getArea(self):\n",
    "        return self.__width\n",
    "    def getPerimeter(self):\n",
    "        return 2 * (self.__height + self.__width)\n",
    "# test\n",
    "def main():\n",
    "    circle = Circle(1)\n",
    "    print('A circle', circle)\n",
    "    print('The raidus is',circle.radius)\n",
    "    print(\"The area is\",circle.getArea())\n",
    "    print('the diameter is',circle.getDiameter())\n",
    "    \n",
    "    rectangle = Rectangle(4, 3)\n",
    "    print(\"\\nA rectangle\",rectangle)\n",
    "    print(\"the area is\",rectangle.getArea())\n",
    "    print('the perimeter',rectangle.getPerimeter())\n",
    "    \n",
    "main()\n",
    "        "
   ]
  },
  {
   "cell_type": "code",
   "execution_count": 7,
   "metadata": {},
   "outputs": [
    {
     "name": "stdout",
     "output_type": "stream",
     "text": [
      "This is intilization\n",
      "123Nhan\n"
     ]
    }
   ],
   "source": [
    "class Student:\n",
    "    def __init__(self, id, name):\n",
    "        print(\"This is intilization\")\n",
    "        self.__id = id\n",
    "        self.__name = name\n",
    "    def __str__(self):\n",
    "        return str(self.__id) + str(self.__name)\n",
    "    \n",
    "student1 = Student('123',\"Nhan\")\n",
    "print(student1)\n",
    "    "
   ]
  },
  {
   "cell_type": "code",
   "execution_count": 8,
   "metadata": {},
   "outputs": [
    {
     "name": "stdout",
     "output_type": "stream",
     "text": [
      "Name: John, Age: 20\n",
      "Name: Alice, Age: 22\n",
      "Grade: A\n"
     ]
    }
   ],
   "source": [
    "#how to use *arg in class\n",
    "class Student:\n",
    "    def __init__(self, *args):\n",
    "        if len(args) == 2:\n",
    "            self.name = args[0]\n",
    "            self.age = args[1]\n",
    "        elif len(args) == 3:\n",
    "            self.name = args[0]\n",
    "            self.age = args[1]\n",
    "            self.grade = args[2]\n",
    "        else:\n",
    "            raise ValueError(\"Invalid number of arguments\")\n",
    "\n",
    "    def display_info(self):\n",
    "        print(f\"Name: {self.name}, Age: {self.age}\")\n",
    "        if hasattr(self, 'grade'):\n",
    "            print(f\"Grade: {self.grade}\")\n",
    "\n",
    "# Tạo đối tượng Student với 2 đối số\n",
    "student1 = Student(\"John\", 20)\n",
    "student1.display_info()\n",
    "\n",
    "# Tạo đối tượng Student với 3 đối số\n",
    "student2 = Student(\"Alice\", 22, \"A\")\n",
    "student2.display_info()\n"
   ]
  },
  {
   "cell_type": "markdown",
   "metadata": {},
   "source": [
    "@Mutiple inheritance"
   ]
  },
  {
   "cell_type": "code",
   "execution_count": 2,
   "metadata": {},
   "outputs": [
    {
     "name": "stdout",
     "output_type": "stream",
     "text": [
      "This is class A\n",
      "This is class B\n",
      "Class A\n",
      "Class B\n"
     ]
    }
   ],
   "source": [
    "class A:\n",
    "    def __init__(self) -> None:\n",
    "        print(\"This is class A\")\n",
    "    def method1(self):\n",
    "        return 'Class A'\n",
    "    \n",
    "class B:\n",
    "    def __init__(self) -> None:\n",
    "        print(\"This is class B\")\n",
    "    def method1(self):\n",
    "        return 'Class B'\n",
    "    \n",
    "# demo mutiple inheritance\n",
    "class C(A, B):\n",
    "    pass\n",
    "\n",
    "class D(B, A):\n",
    "    pass\n",
    "\n",
    "def main():\n",
    "    c = C(); d = D()\n",
    "    print(c.method1())\n",
    "    print(d.method1())\n",
    "\n",
    "main()\n",
    "    "
   ]
  },
  {
   "cell_type": "code",
   "execution_count": 3,
   "metadata": {},
   "outputs": [],
   "source": [
    "class DrawingObject:\n",
    "    def __init__(self, objectId) -> None:\n",
    "        self.objectId = objectId\n",
    "\n",
    "class Shape:\n",
    "    def __init__(self, color) -> None:\n",
    "        self.color = color\n",
    "        \n",
    "class Rectangle(DrawingObject, Shape):\n",
    "    def __init__(self, objectId, color, width = 1, height = 1) -> None:\n",
    "        DrawingObject.__init__(self, objectId)\n",
    "        Shape.__init__(self, color)\n",
    "        self.width = width\n",
    "        self.height = height\n",
    "        \n",
    "    def __str__(self) -> str:\n",
    "        return \"{} | {} | {} | {}\".format(self.objectId, self.color, self.width,\\\n",
    "                                        self.height)"
   ]
  },
  {
   "cell_type": "code",
   "execution_count": 12,
   "metadata": {},
   "outputs": [
    {
     "name": "stdout",
     "output_type": "stream",
     "text": [
      "color: blue, filled: True\n"
     ]
    }
   ],
   "source": [
    "#overiding method\n",
    "class GeometricObject:\n",
    "    def __init__(self, color = 'blue', filled = True) -> None:\n",
    "        self.__color = color\n",
    "        self.__filled = filled\n",
    "    \n",
    "    #private method, khong the ke thua va phu quyet\n",
    "    def __toString(self):\n",
    "        return 'color: ' + self.__color + ', filled: ' + str(self.__filled)\n",
    "    \n",
    "# Lopws circle ke thua lop geometricObject\n",
    "class Circle(GeometricObject):\n",
    "    def __init__(self, radius) -> None:\n",
    "        super().__init__()\n",
    "        self.__radius = radius\n",
    "        \n",
    "    #private method khong lien quan den phuong thuc _toString()\n",
    "# c1 = Circle(radius=5)\n",
    "\n",
    "# # Truy cap phuong thuc __toString() tu lop cha GeometricObject\n",
    "# result = c1._GeometricObject__toString()\n",
    "# print(result)\n",
    "g1 = GeometricObject()\n",
    "print(g1._GeometricObject__toString())"
   ]
  },
  {
   "cell_type": "code",
   "execution_count": 10,
   "metadata": {},
   "outputs": [
    {
     "name": "stdout",
     "output_type": "stream",
     "text": [
      "color: blue, filled: True\n"
     ]
    }
   ],
   "source": [
    "class GeometricObject:\n",
    "    def __init__(self, color='blue', filled=True):\n",
    "        self.__color = color\n",
    "        self.__filled = filled\n",
    "    \n",
    "    def __toString(self):\n",
    "        return 'color: ' + self.__color + ', filled: ' + str(self.__filled)\n",
    "\n",
    "# Create an instance of the GeometricObject class\n",
    "g1 = GeometricObject()\n",
    "\n",
    "# Access the private method __toString() using name mangling on the instance\n",
    "result = g1._GeometricObject__toString()\n",
    "print(result)\n"
   ]
  },
  {
   "cell_type": "code",
   "execution_count": 13,
   "metadata": {},
   "outputs": [
    {
     "name": "stdout",
     "output_type": "stream",
     "text": [
      "Một đối số: 1\n",
      "Hai đối số: 1, 2\n",
      "Ba đối số: 1, 2, 3\n"
     ]
    }
   ],
   "source": [
    "#overloading\n",
    "class MyClass:\n",
    "    def my_method(self, arg1, arg2=None, arg3=None):\n",
    "        if arg3 is not None:\n",
    "            # Xử lý trường hợp có ba đối số\n",
    "            print(f\"Ba đối số: {arg1}, {arg2}, {arg3}\")\n",
    "        elif arg2 is not None:\n",
    "            # Xử lý trường hợp có hai đối số\n",
    "            print(f\"Hai đối số: {arg1}, {arg2}\")\n",
    "        else:\n",
    "            # Xử lý trường hợp có một đối số\n",
    "            print(f\"Một đối số: {arg1}\")\n",
    "\n",
    "# Tạo một thể hiện của MyClass\n",
    "obj = MyClass()\n",
    "\n",
    "# Gọi phương thức với một, hai và ba đối số\n",
    "obj.my_method(1)\n",
    "obj.my_method(1, 2)\n",
    "obj.my_method(1, 2, 3)\n"
   ]
  },
  {
   "cell_type": "code",
   "execution_count": null,
   "metadata": {},
   "outputs": [],
   "source": [
    "# verloading constructors based on arguments?\n",
    "class Rectangle:\n",
    "    def __init__(self, *args):\n",
    "        if len(args) == 1 and isinstance()"
   ]
  }
 ],
 "metadata": {
  "kernelspec": {
   "display_name": "Python 3 (ipykernel)",
   "language": "python",
   "name": "python3"
  },
  "language_info": {
   "codemirror_mode": {
    "name": "ipython",
    "version": 3
   },
   "file_extension": ".py",
   "mimetype": "text/x-python",
   "name": "python",
   "nbconvert_exporter": "python",
   "pygments_lexer": "ipython3",
   "version": "3.10.9"
  }
 },
 "nbformat": 4,
 "nbformat_minor": 2
}
