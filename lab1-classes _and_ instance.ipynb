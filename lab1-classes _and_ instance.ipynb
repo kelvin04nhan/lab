{
 "cells": [
  {
   "cell_type": "code",
   "execution_count": null,
   "metadata": {},
   "outputs": [],
   "source": [
    "width = 20\n",
    "print(type(width))\n",
    "\n",
    "\n",
    "def calculateArea(width, heigh):\n",
    "    return width * heigh\n",
    "x = calculateArea(10, 5)\n",
    "print(type(x))\n",
    "print(type(calculateArea))"
   ]
  },
  {
   "cell_type": "code",
   "execution_count": 13,
   "metadata": {},
   "outputs": [
    {
     "name": "stdout",
     "output_type": "stream",
     "text": [
      "<class 'type'>\n",
      "True\n",
      "True\n"
     ]
    }
   ],
   "source": [
    "class Retangle:\n",
    "    pass\n",
    "\n",
    "print(type(Retangle))\n",
    "print(issubclass(Retangle, object))\n",
    "print(isinstance(Retangle, object))"
   ]
  },
  {
   "cell_type": "code",
   "execution_count": 14,
   "metadata": {},
   "outputs": [
    {
     "name": "stdout",
     "output_type": "stream",
     "text": [
      "I'm initializing a new rectangle instnace\n"
     ]
    }
   ],
   "source": [
    "# init method\n",
    "class Rectangle:\n",
    "    def __init__(self, width, heigh):\n",
    "        print(\"I'm initializing a new rectangle instnace\")\n",
    "        self.width = width\n",
    "        self.heigh = heigh\n",
    "        \n",
    "rec1 = Rectangle(3,6)"
   ]
  },
  {
   "cell_type": "code",
   "execution_count": null,
   "metadata": {},
   "outputs": [],
   "source": [
    "class Rectangle:\n",
    "    def __init__(caller, width, heigh):\n",
    "        print(\"I'm initializing a new rectangle instnace\")\n",
    "        caller.width =width\n",
    "        caller.heigh = heigh\n",
    "rec1 = Rectangle(6, 8)"
   ]
  },
  {
   "cell_type": "code",
   "execution_count": 19,
   "metadata": {},
   "outputs": [
    {
     "name": "stdout",
     "output_type": "stream",
     "text": [
      "I'm initializing a new rectangle instnace\n"
     ]
    },
    {
     "ename": "AttributeError",
     "evalue": "'Rectangle' object has no attribute 'calculateArea'",
     "output_type": "error",
     "traceback": [
      "\u001b[1;31m---------------------------------------------------------------------------\u001b[0m",
      "\u001b[1;31mAttributeError\u001b[0m                            Traceback (most recent call last)",
      "\u001b[1;32mc:\\Users\\PC ASUS\\Desktop\\workspace\\Python\\Python OOP\\laboratory\\lab1-classes _and_ instance.ipynb Cell 5\u001b[0m line \u001b[0;36m1\n\u001b[0;32m     <a href='vscode-notebook-cell:/c%3A/Users/PC%20ASUS/Desktop/workspace/Python/Python%20OOP/laboratory/lab1-classes%20_and_%20instance.ipynb#W4sZmlsZQ%3D%3D?line=12'>13</a>\u001b[0m \u001b[39mdef\u001b[39;00m \u001b[39mcalculateRetangleArea\u001b[39m(width, heigh):\n\u001b[0;32m     <a href='vscode-notebook-cell:/c%3A/Users/PC%20ASUS/Desktop/workspace/Python/Python%20OOP/laboratory/lab1-classes%20_and_%20instance.ipynb#W4sZmlsZQ%3D%3D?line=13'>14</a>\u001b[0m     \u001b[39mreturn\u001b[39;00m Rectangle(width, heigh)\u001b[39m.\u001b[39mcalculateArea()    \n\u001b[1;32m---> <a href='vscode-notebook-cell:/c%3A/Users/PC%20ASUS/Desktop/workspace/Python/Python%20OOP/laboratory/lab1-classes%20_and_%20instance.ipynb#W4sZmlsZQ%3D%3D?line=14'>15</a>\u001b[0m \u001b[39mprint\u001b[39m(calculateRetangleArea(\u001b[39m30\u001b[39;49m, \u001b[39m20\u001b[39;49m))\n\u001b[0;32m     <a href='vscode-notebook-cell:/c%3A/Users/PC%20ASUS/Desktop/workspace/Python/Python%20OOP/laboratory/lab1-classes%20_and_%20instance.ipynb#W4sZmlsZQ%3D%3D?line=15'>16</a>\u001b[0m \u001b[39m''' test1 '''\u001b[39;00m\n\u001b[0;32m     <a href='vscode-notebook-cell:/c%3A/Users/PC%20ASUS/Desktop/workspace/Python/Python%20OOP/laboratory/lab1-classes%20_and_%20instance.ipynb#W4sZmlsZQ%3D%3D?line=16'>17</a>\u001b[0m \u001b[39m# rec1 = Rectangle(40, 100)\u001b[39;00m\n\u001b[0;32m     <a href='vscode-notebook-cell:/c%3A/Users/PC%20ASUS/Desktop/workspace/Python/Python%20OOP/laboratory/lab1-classes%20_and_%20instance.ipynb#W4sZmlsZQ%3D%3D?line=17'>18</a>\u001b[0m \u001b[39m# # rec1 = Rectangle()\u001b[39;00m\n\u001b[0;32m     <a href='vscode-notebook-cell:/c%3A/Users/PC%20ASUS/Desktop/workspace/Python/Python%20OOP/laboratory/lab1-classes%20_and_%20instance.ipynb#W4sZmlsZQ%3D%3D?line=18'>19</a>\u001b[0m \u001b[39m# rec1 = None\u001b[39;00m\n",
      "\u001b[1;32mc:\\Users\\PC ASUS\\Desktop\\workspace\\Python\\Python OOP\\laboratory\\lab1-classes _and_ instance.ipynb Cell 5\u001b[0m line \u001b[0;36m1\n\u001b[0;32m     <a href='vscode-notebook-cell:/c%3A/Users/PC%20ASUS/Desktop/workspace/Python/Python%20OOP/laboratory/lab1-classes%20_and_%20instance.ipynb#W4sZmlsZQ%3D%3D?line=12'>13</a>\u001b[0m \u001b[39mdef\u001b[39;00m \u001b[39mcalculateRetangleArea\u001b[39m(width, heigh):\n\u001b[1;32m---> <a href='vscode-notebook-cell:/c%3A/Users/PC%20ASUS/Desktop/workspace/Python/Python%20OOP/laboratory/lab1-classes%20_and_%20instance.ipynb#W4sZmlsZQ%3D%3D?line=13'>14</a>\u001b[0m     \u001b[39mreturn\u001b[39;00m Rectangle(width, heigh)\u001b[39m.\u001b[39;49mcalculateArea()\n",
      "\u001b[1;31mAttributeError\u001b[0m: 'Rectangle' object has no attribute 'calculateArea'"
     ]
    }
   ],
   "source": [
    "#customizing destructors\n",
    "\n",
    "class Rectangle:\n",
    "    # init method\n",
    "    def __init__(self, width, heigh):\n",
    "        print(\"I'm initializing a new rectangle instnace\")\n",
    "        self.width = width\n",
    "        self.heigh = heigh\n",
    "        \n",
    "    #detructor method\n",
    "    def __del__(self):\n",
    "        print(\"A rectangle instance is being destroyed\")\n",
    "def calculateRetangleArea(width, heigh):\n",
    "    return Rectangle(width, heigh).calculateArea()    \n",
    "print(calculateRetangleArea(30, 20))\n",
    "''' test1 '''\n",
    "# rec1 = Rectangle(40, 100)\n",
    "# # rec1 = Rectangle()\n",
    "# rec1 = None\n",
    "\n",
    "'''test 2'''\n",
    "# rec2 = Rectangle(40, 50)\n",
    "# rec3 = rec2\n",
    "# rec3 = None\n",
    "\n"
   ]
  },
  {
   "cell_type": "code",
   "execution_count": 20,
   "metadata": {},
   "outputs": [
    {
     "name": "stdout",
     "output_type": "stream",
     "text": [
      "I'm initializing a new rectangle instance\n",
      "A rectangle instance is being destroyed\n",
      "600\n"
     ]
    }
   ],
   "source": [
    "class Rectangle:\n",
    "    # init method\n",
    "    def __init__(self, width, height):\n",
    "        print(\"I'm initializing a new rectangle instance\")\n",
    "        self.width = width\n",
    "        self.height = height\n",
    "        \n",
    "    # destructor method\n",
    "    def __del__(self):\n",
    "        print(\"A rectangle instance is being destroyed\")\n",
    "        \n",
    "    # calculateArea method\n",
    "    def calculateArea(self):\n",
    "        return self.width * self.height\n",
    "\n",
    "def calculateRectangleArea(width, height):\n",
    "    return Rectangle(width, height).calculateArea()\n",
    "\n",
    "print(calculateRectangleArea(30, 20))\n"
   ]
  },
  {
   "cell_type": "code",
   "execution_count": 21,
   "metadata": {},
   "outputs": [
    {
     "name": "stdout",
     "output_type": "stream",
     "text": [
      "Le Thanh Nhan\n",
      "Le Thanh Dat\n",
      "Le Thanh Dat\n"
     ]
    }
   ],
   "source": [
    "# \"self\" first parameter\n",
    "class Student:\n",
    "    def __init__(self, name):\n",
    "        self.__name = name\n",
    "    def printStudent(self):\n",
    "        print(self.__name)\n",
    "        \n",
    "def main():\n",
    "    s1 = Student(\"Le Thanh Nhan\")\n",
    "    s1.printStudent()\n",
    "    \n",
    "    s2 = Student(\"Le Thanh Dat\")\n",
    "    s2.printStudent()\n",
    "    Student.printStudent(s2)\n",
    "main()"
   ]
  },
  {
   "cell_type": "code",
   "execution_count": 25,
   "metadata": {},
   "outputs": [],
   "source": [
    "class Family:\n",
    "    def __init__(self):\n",
    "        return None\n",
    "f1 = Family()"
   ]
  },
  {
   "cell_type": "code",
   "execution_count": 35,
   "metadata": {},
   "outputs": [
    {
     "name": "stdout",
     "output_type": "stream",
     "text": [
      "* * * * * \n",
      "10\n"
     ]
    }
   ],
   "source": [
    "class Rectangle:\n",
    "    def __init__(self, width=1, height=1):\n",
    "        self.__width = width\n",
    "        self.__height = height\n",
    "\n",
    "    def draw(self):\n",
    "        for i in range(self.__height):\n",
    "            for j in range(self.__width):\n",
    "                print(\"*\", end=\" \")\n",
    "            print()\n",
    "\n",
    "'''Test 1'''\n",
    "# rec1 = Rectangle(6, 4)\n",
    "# rec1.draw()\n",
    "\n",
    "'''test 2'''\n",
    "rec3 = Rectangle(width=5)\n",
    "rec3.__width = 10\n",
    "rec3.draw()\n",
    "print(rec3.__width)"
   ]
  },
  {
   "cell_type": "code",
   "execution_count": 38,
   "metadata": {},
   "outputs": [
    {
     "name": "stdout",
     "output_type": "stream",
     "text": [
      "5\n",
      "* * * * * \n",
      "* * * * * \n",
      "* * * * * \n",
      "* * * * * \n",
      "* * * * * \n",
      "-----------\n",
      "10\n",
      "* * * * * * * * * * \n",
      "* * * * * * * * * * \n",
      "* * * * * * * * * * \n",
      "* * * * * * * * * * \n",
      "* * * * * * * * * * \n"
     ]
    }
   ],
   "source": [
    "'''Hiding data fields (private data fields)'''\n",
    "class Rectangle:\n",
    "    def __init__(self, width = 1, height = 1):\n",
    "        self.width = width\n",
    "        self.height = height\n",
    "    def draw(self):\n",
    "        for i in range(self.height):\n",
    "            for j in range(self.width):\n",
    "                print(\"*\",end= \" \")\n",
    "            print()\n",
    "rec1 = Rectangle(5,5)\n",
    "print(rec1.width)\n",
    "rec1.draw()\n",
    "print(\"-----------\")\n",
    "rec1.width = 10\n",
    "print(rec1.width)\n",
    "rec1.draw()"
   ]
  },
  {
   "cell_type": "code",
   "execution_count": 42,
   "metadata": {},
   "outputs": [
    {
     "name": "stdout",
     "output_type": "stream",
     "text": [
      "10\n",
      "30\n"
     ]
    }
   ],
   "source": [
    "class Rectangle:\n",
    "    def __init__(self, width=1, height=1):\n",
    "        self.__width = width\n",
    "        self.__height = height\n",
    "    @property\n",
    "    def width(self):\n",
    "        return self.__width\n",
    "    @width.setter\n",
    "    def width(self, width):\n",
    "        self.__width = width\n",
    "\n",
    "    @property\n",
    "    def height(self):\n",
    "        return self.__height\n",
    "    @height.setter\n",
    "    def height(self, height):\n",
    "        self.__height = height\n",
    "#how to         \n",
    "rec1 = Rectangle(10, 5)\n",
    "print(rec1.width)\n",
    "rec1.width = 30\n",
    "print(rec1.width)"
   ]
  }
 ],
 "metadata": {
  "kernelspec": {
   "display_name": "base",
   "language": "python",
   "name": "python3"
  },
  "language_info": {
   "codemirror_mode": {
    "name": "ipython",
    "version": 3
   },
   "file_extension": ".py",
   "mimetype": "text/x-python",
   "name": "python",
   "nbconvert_exporter": "python",
   "pygments_lexer": "ipython3",
   "version": "3.10.9"
  }
 },
 "nbformat": 4,
 "nbformat_minor": 2
}
