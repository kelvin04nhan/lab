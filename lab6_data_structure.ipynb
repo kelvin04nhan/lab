{
 "cells": [
  {
   "cell_type": "code",
   "execution_count": 2,
   "metadata": {},
   "outputs": [
    {
     "name": "stdout",
     "output_type": "stream",
     "text": [
      "2246174419056\n",
      "2246174419056\n",
      "2246226078640\n"
     ]
    }
   ],
   "source": [
    "#Immutable object (str)\n",
    "s1 = 'python'\n",
    "s2 = 'python'\n",
    "print(id(s1))\n",
    "print(id(s2))\n",
    "# gan s2 gia tri moi, thuc chat la tao doi tuong moi va s2 tro den vung nho moi\n",
    "s2 = 'programing'\n",
    "print(id(s2))"
   ]
  },
  {
   "cell_type": "code",
   "execution_count": 6,
   "metadata": {},
   "outputs": [
    {
     "name": "stdout",
     "output_type": "stream",
     "text": [
      "2246156747280\n",
      "2246156747280\n",
      "2246156747280\n",
      "2246156747280\n",
      "2246156747600\n",
      "2246156747280\n"
     ]
    }
   ],
   "source": [
    "# khai bao 3 bien so nguyen (int)\n",
    "x = 10; y = 10; z = y\n",
    "print(id(x))\n",
    "print(id(y))\n",
    "print(id(z))\n",
    "\n",
    "# doi gia tri bien y\n",
    "y = 20\n",
    "print(id(x))\n",
    "print(id(y))\n",
    "print(id(z))"
   ]
  },
  {
   "cell_type": "code",
   "execution_count": 7,
   "metadata": {},
   "outputs": [
    {
     "name": "stdout",
     "output_type": "stream",
     "text": [
      "2246227166640\n",
      "2246223706960\n"
     ]
    }
   ],
   "source": [
    "#immutable objects (float)\n",
    "# Tai sao dia chi o nho cua doi tuong (id) lai khac\n",
    "# because: so float khong biet chinh xac la so nao\n",
    "x = 3.14\n",
    "y = 3.14\n",
    "print(id(x))\n",
    "print(id(y))"
   ]
  },
  {
   "cell_type": "code",
   "execution_count": 8,
   "metadata": {},
   "outputs": [
    {
     "ename": "AttributeError",
     "evalue": "'object' object has no attribute 'x'",
     "output_type": "error",
     "traceback": [
      "\u001b[1;31m---------------------------------------------------------------------------\u001b[0m",
      "\u001b[1;31mAttributeError\u001b[0m                            Traceback (most recent call last)",
      "Cell \u001b[1;32mIn [8], line 4\u001b[0m\n\u001b[0;32m      1\u001b[0m \u001b[38;5;66;03m# cac doi tuong lop object khong the mo rong/ them\u001b[39;00m\n\u001b[0;32m      2\u001b[0m \u001b[38;5;66;03m# cac thuoc tinh moi\u001b[39;00m\n\u001b[0;32m      3\u001b[0m o \u001b[38;5;241m=\u001b[39m \u001b[38;5;28mobject\u001b[39m()\n\u001b[1;32m----> 4\u001b[0m \u001b[43mo\u001b[49m\u001b[38;5;241;43m.\u001b[39;49m\u001b[43mx\u001b[49m \u001b[38;5;241m=\u001b[39m \u001b[38;5;241m5\u001b[39m\n",
      "\u001b[1;31mAttributeError\u001b[0m: 'object' object has no attribute 'x'"
     ]
    }
   ],
   "source": [
    "# cac doi tuong lop object khong the mo rong/ them\n",
    "# cac thuoc tinh moi\n",
    "o = object()\n",
    "o.x = 5"
   ]
  },
  {
   "cell_type": "code",
   "execution_count": 9,
   "metadata": {},
   "outputs": [
    {
     "name": "stdout",
     "output_type": "stream",
     "text": [
      "Le Thanh Nhan 13/8/2004\n"
     ]
    }
   ],
   "source": [
    "class Student:\n",
    "    def __init__(self, name):\n",
    "        self.name = name\n",
    "        \n",
    "s = Student('Le Thanh Nhan')\n",
    "s.birthday = '13/8/2004'\n",
    "print(s.name, s.birthday)"
   ]
  },
  {
   "cell_type": "code",
   "execution_count": 10,
   "metadata": {},
   "outputs": [],
   "source": [
    "#Empty objects\n",
    "#khong cho them cac thuoc tinh tuy y, tu do (arbitrary)\n",
    "# vao cac class\n",
    "class Student:\n",
    "    # chi gioi han 2 thuoc tinh nam va major\n",
    "    __slots__ = ('name', 'major')\n",
    "    \n",
    "    def __init__(self, name):\n",
    "        self.name = name\n",
    "        "
   ]
  },
  {
   "cell_type": "code",
   "execution_count": 12,
   "metadata": {},
   "outputs": [
    {
     "name": "stdout",
     "output_type": "stream",
     "text": [
      "Le Thanh Dat AI\n"
     ]
    },
    {
     "ename": "AttributeError",
     "evalue": "'Student' object has no attribute 'grade'",
     "output_type": "error",
     "traceback": [
      "\u001b[1;31m---------------------------------------------------------------------------\u001b[0m",
      "\u001b[1;31mAttributeError\u001b[0m                            Traceback (most recent call last)",
      "Cell \u001b[1;32mIn [12], line 4\u001b[0m\n\u001b[0;32m      2\u001b[0m s\u001b[38;5;241m.\u001b[39mmajor \u001b[38;5;241m=\u001b[39m \u001b[38;5;124m'\u001b[39m\u001b[38;5;124mAI\u001b[39m\u001b[38;5;124m'\u001b[39m\n\u001b[0;32m      3\u001b[0m \u001b[38;5;28mprint\u001b[39m(s\u001b[38;5;241m.\u001b[39mname, s\u001b[38;5;241m.\u001b[39mmajor)\n\u001b[1;32m----> 4\u001b[0m \u001b[43ms\u001b[49m\u001b[38;5;241;43m.\u001b[39;49m\u001b[43mgrade\u001b[49m \u001b[38;5;241m=\u001b[39m \u001b[38;5;124m'\u001b[39m\u001b[38;5;124m10\u001b[39m\u001b[38;5;124m'\u001b[39m\n\u001b[0;32m      5\u001b[0m \u001b[38;5;28mprint\u001b[39m(s\u001b[38;5;241m.\u001b[39mgrate)\n",
      "\u001b[1;31mAttributeError\u001b[0m: 'Student' object has no attribute 'grade'"
     ]
    }
   ],
   "source": [
    "s = Student('Le Thanh Dat')\n",
    "s.major = 'AI'\n",
    "print(s.name, s.major)\n",
    "s.grade = '10'\n",
    "print(s.grate) # vi co slot"
   ]
  },
  {
   "cell_type": "markdown",
   "metadata": {},
   "source": [
    "#tuples"
   ]
  },
  {
   "cell_type": "code",
   "execution_count": 13,
   "metadata": {},
   "outputs": [
    {
     "data": {
      "text/plain": [
       "tuple"
      ]
     },
     "execution_count": 13,
     "metadata": {},
     "output_type": "execute_result"
    }
   ],
   "source": [
    "# khai bao 1 doi tuong tuple\n",
    "stock = 'AAPL', 123.52, 53.15, 137.98\n",
    "stock2 =('AAPL', 123.52, 53.15, 137.98)\n",
    "type(stock)"
   ]
  },
  {
   "cell_type": "code",
   "execution_count": 14,
   "metadata": {},
   "outputs": [],
   "source": [
    "# tuple unpacking\n",
    "import datetime\n",
    "def middle(stock, date):\n",
    "    # tuple unpacking : unpacks the stock parameter into four different variables\n",
    "    symbol, current, high, low = stock\n",
    "    \n",
    "    return (((high + low) / 2), date)"
   ]
  },
  {
   "cell_type": "code",
   "execution_count": 16,
   "metadata": {},
   "outputs": [
    {
     "data": {
      "text/plain": [
       "(95.565, datetime.date(2020, 12, 4))"
      ]
     },
     "execution_count": 16,
     "metadata": {},
     "output_type": "execute_result"
    }
   ],
   "source": [
    "middle(('AAPL', 123.52, 53.15, 137.98), datetime.date(2020, 12, 4))\n",
    "(95.565, datetime.date(2020, 12, 4))"
   ]
  },
  {
   "cell_type": "code",
   "execution_count": 17,
   "metadata": {},
   "outputs": [
    {
     "name": "stdout",
     "output_type": "stream",
     "text": [
      "<class 'tuple'>\n",
      "<class 'tuple'>\n",
      "First name: Tran Van\n",
      "Last name: Binh\n",
      "Year: 2022\n",
      "Major: AI\n"
     ]
    }
   ],
   "source": [
    "# mot so khai bao tuple\n",
    "# cac gia tri cach nhau dau phay\n",
    "fullname = ('Tran Van','Binh')\n",
    "student = fullname, 2022, 'AI'\n",
    "\n",
    "# truy xuat cac phan tu trong tuple\n",
    "print(type(fullname))\n",
    "print(type(student))\n",
    "print('First name:',fullname[0])\n",
    "print('Last name:', student[0][1])\n",
    "print('Year:',student[1])\n",
    "print('Major:',student[2])"
   ]
  },
  {
   "cell_type": "code",
   "execution_count": 18,
   "metadata": {},
   "outputs": [
    {
     "data": {
      "text/plain": [
       "(2022, 'AI')"
      ]
     },
     "execution_count": 18,
     "metadata": {},
     "output_type": "execute_result"
    }
   ],
   "source": [
    "#slicing: cat lat du lieu tu tuple\n",
    "# lay gia tri tu vi tri (index) 1 den truco 3\n",
    "# tuong ug cac phan tu co index 1,2\n",
    "student[1:3]"
   ]
  },
  {
   "cell_type": "code",
   "execution_count": 19,
   "metadata": {},
   "outputs": [
    {
     "name": "stdout",
     "output_type": "stream",
     "text": [
      "137.98\n",
      "137.98\n",
      "123.52\n"
     ]
    }
   ],
   "source": [
    "# Named tuples \n",
    "from typing import NamedTuple\n",
    "# Define name tuple save stock information\n",
    "class Stock(NamedTuple):\n",
    "    symbol: str\n",
    "    current: float\n",
    "    high: float\n",
    "    low: float\n",
    "    \n",
    "    \n",
    "s = Stock('AAPL', 123.52, 137.98, 53.15)\n",
    "s2 = Stock('AAPL', 123.52, high = 137.98, low = 53.15)\n",
    "print(s.high)\n",
    "print(s[2])\n",
    "symbol, current, high, low = s\n",
    "print(current)"
   ]
  },
  {
   "cell_type": "code",
   "execution_count": 24,
   "metadata": {},
   "outputs": [
    {
     "name": "stdout",
     "output_type": "stream",
     "text": [
      "22207424\n"
     ]
    }
   ],
   "source": [
    "from typing import NamedTuple\n",
    "class Student(NamedTuple):\n",
    "    ID: int\n",
    "    name: str\n",
    "    age: int\n",
    "    major: str\n",
    "student1 = Student(22207424, 'LE THANH NHAN', 19, 'AI')\n",
    "ID, name, age, major = student1\n",
    "print(student1.ID)"
   ]
  },
  {
   "cell_type": "code",
   "execution_count": 29,
   "metadata": {},
   "outputs": [
    {
     "name": "stdout",
     "output_type": "stream",
     "text": [
      "('Le Thanh Nhan', ['math', 'java', 'c++', 'python'])\n"
     ]
    },
    {
     "ename": "TypeError",
     "evalue": "unhashable type: 'list'",
     "output_type": "error",
     "traceback": [
      "\u001b[1;31m---------------------------------------------------------------------------\u001b[0m",
      "\u001b[1;31mTypeError\u001b[0m                                 Traceback (most recent call last)",
      "Cell \u001b[1;32mIn [29], line 5\u001b[0m\n\u001b[0;32m      3\u001b[0m student[\u001b[38;5;241m1\u001b[39m]\u001b[38;5;241m.\u001b[39mappend(\u001b[38;5;124m'\u001b[39m\u001b[38;5;124mpython\u001b[39m\u001b[38;5;124m'\u001b[39m)\n\u001b[0;32m      4\u001b[0m \u001b[38;5;28mprint\u001b[39m(student)\n\u001b[1;32m----> 5\u001b[0m \u001b[38;5;28;43mhash\u001b[39;49m\u001b[43m(\u001b[49m\u001b[43mstudent\u001b[49m\u001b[43m)\u001b[49m\n",
      "\u001b[1;31mTypeError\u001b[0m: unhashable type: 'list'"
     ]
    }
   ],
   "source": [
    "# A tuple that contains a mutable structure ?\n",
    "student = ('Le Thanh Nhan', ['math','java', 'c++'])\n",
    "student[1].append('python')\n",
    "print(student)\n",
    "hash(student)"
   ]
  },
  {
   "cell_type": "code",
   "execution_count": 27,
   "metadata": {},
   "outputs": [
    {
     "ename": "TypeError",
     "evalue": "'tuple' object does not support item assignment",
     "output_type": "error",
     "traceback": [
      "\u001b[1;31m---------------------------------------------------------------------------\u001b[0m",
      "\u001b[1;31mTypeError\u001b[0m                                 Traceback (most recent call last)",
      "Cell \u001b[1;32mIn [27], line 1\u001b[0m\n\u001b[1;32m----> 1\u001b[0m \u001b[43mstudent\u001b[49m\u001b[43m[\u001b[49m\u001b[38;5;241;43m0\u001b[39;49m\u001b[43m]\u001b[49m \u001b[38;5;241m=\u001b[39m \u001b[38;5;124m'\u001b[39m\u001b[38;5;124mPham tan dat\u001b[39m\u001b[38;5;124m'\u001b[39m\n",
      "\u001b[1;31mTypeError\u001b[0m: 'tuple' object does not support item assignment"
     ]
    }
   ],
   "source": [
    "student[0] = 'Pham tan dat'"
   ]
  },
  {
   "cell_type": "code",
   "execution_count": 28,
   "metadata": {},
   "outputs": [
    {
     "data": {
      "text/plain": [
       "-7791403932337544036"
      ]
     },
     "execution_count": 28,
     "metadata": {},
     "output_type": "execute_result"
    }
   ],
   "source": [
    "student = 'Le Thanh Nhan', 2022, 'AI'\n",
    "hash(student)"
   ]
  },
  {
   "cell_type": "code",
   "execution_count": 34,
   "metadata": {},
   "outputs": [
    {
     "ename": "TypeError",
     "evalue": "__slots__ items must be strings, not 'float'",
     "output_type": "error",
     "traceback": [
      "\u001b[1;31m---------------------------------------------------------------------------\u001b[0m",
      "\u001b[1;31mTypeError\u001b[0m                                 Traceback (most recent call last)",
      "Cell \u001b[1;32mIn [34], line 6\u001b[0m\n\u001b[0;32m      1\u001b[0m \u001b[38;5;66;03m# Data CLASS\u001b[39;00m\n\u001b[0;32m      3\u001b[0m \u001b[38;5;28;01mfrom\u001b[39;00m \u001b[38;5;21;01mdataclasses\u001b[39;00m \u001b[38;5;28;01mimport\u001b[39;00m dataclass\n\u001b[0;32m      5\u001b[0m \u001b[38;5;129m@dataclass\u001b[39m\n\u001b[1;32m----> 6\u001b[0m \u001b[38;5;28;01mclass\u001b[39;00m \u001b[38;5;21;01mStock\u001b[39;00m:\n\u001b[0;32m      7\u001b[0m     \u001b[38;5;18m__slots__\u001b[39m \u001b[38;5;241m=\u001b[39m (symbol, current, high, low)\n\u001b[0;32m      8\u001b[0m     symbol: \u001b[38;5;28mstr\u001b[39m\n",
      "\u001b[1;31mTypeError\u001b[0m: __slots__ items must be strings, not 'float'"
     ]
    }
   ],
   "source": [
    "# Data CLASS\n",
    "\n",
    "from dataclasses import dataclass\n",
    "\n",
    "@dataclass\n",
    "class Stock:\n",
    "    # __slots__ = (symbol, current, high, low)\n",
    "    symbol: str\n",
    "    current: float\n",
    "    high: float\n",
    "    low: float\n",
    "    "
   ]
  },
  {
   "cell_type": "code",
   "execution_count": 33,
   "metadata": {},
   "outputs": [
    {
     "name": "stdout",
     "output_type": "stream",
     "text": [
      "Stock(symbol='AAPL', current=123.52, high=137.98, low=53.15)\n",
      "123.52\n",
      "Apple Inc.\n",
      "Stock(symbol='AAPL', current=0.0, high=137.98, low=53.15)\n"
     ]
    }
   ],
   "source": [
    "s = Stock('AAPL', 123.52, 137.98, 53.15)\n",
    "print(s)\n",
    "print(s.current)\n",
    "\n",
    "# co the thay doi gia tri cac pha tu trong dataclass\n",
    "s.current = 0.0\n",
    "s.new_attribute = 'Apple Inc.'\n",
    "print(s.new_attribute)\n",
    "print(s)"
   ]
  },
  {
   "cell_type": "code",
   "execution_count": 35,
   "metadata": {},
   "outputs": [
    {
     "name": "stdout",
     "output_type": "stream",
     "text": [
      "2246230367520\n",
      "2246230368768\n",
      "True\n"
     ]
    }
   ],
   "source": [
    "# so sanh 2 doi tuong cua data classes\n",
    "s1 = Stock('AAPL', 123.52, 137.98, 53.15)\n",
    "s2 = Stock('AAPL', 123.52, 137.98, 53.15)\n",
    "print(id(s1))\n",
    "print(id(s2))\n",
    "print(s1==s2)"
   ]
  },
  {
   "cell_type": "markdown",
   "metadata": {},
   "source": [
    "- Dataclasses vs ordinary classes"
   ]
  },
  {
   "cell_type": "code",
   "execution_count": 36,
   "metadata": {},
   "outputs": [
    {
     "data": {
      "text/plain": [
       "<__main__.StockOrdinary at 0x20afdd80c70>"
      ]
     },
     "execution_count": 36,
     "metadata": {},
     "output_type": "execute_result"
    }
   ],
   "source": [
    "class StockOrdinary:\n",
    "    def __init__(self, name, current, high, low):\n",
    "        self.name = name\n",
    "        self.current = current\n",
    "        self.high = high\n",
    "        self.low = low\n",
    "        \n",
    "        \n",
    "ord_s1 = StockOrdinary('AAPL', 123.52, 137.98, 53.15)\n",
    "ord_s1"
   ]
  },
  {
   "cell_type": "code",
   "execution_count": 37,
   "metadata": {},
   "outputs": [
    {
     "name": "stdout",
     "output_type": "stream",
     "text": [
      "2246231723120\n"
     ]
    }
   ],
   "source": [
    "# luu y dia chi vung nho cua ord_s1 la ____ (gia tri hex)\n",
    "# tuong ung voi gia tri decimal la ___________\n",
    "print(id(ord_s1))"
   ]
  },
  {
   "cell_type": "code",
   "execution_count": 38,
   "metadata": {},
   "outputs": [
    {
     "name": "stdout",
     "output_type": "stream",
     "text": [
      "2246231723120\n",
      "2246230366656\n",
      "False\n"
     ]
    }
   ],
   "source": [
    "ord_s2 = StockOrdinary('AAPL', 123.52, 137.98, 53.15)\n",
    "print(id(ord_s1))\n",
    "print(id(ord_s2))\n",
    "# so sanh 2 doi tuong cua ordinary class\n",
    "print(ord_s1 == ord_s2)"
   ]
  },
  {
   "cell_type": "code",
   "execution_count": 40,
   "metadata": {},
   "outputs": [
    {
     "name": "stdout",
     "output_type": "stream",
     "text": [
      "Stock(name='GOOG', current=0.0, high=0.0, low=0.0)\n",
      "Stock(name='GOOG', current=1826.77, high=1847.2, low=1012.54)\n"
     ]
    }
   ],
   "source": [
    "# benefit of dataclasses\n",
    "from dataclasses import dataclass\n",
    "@dataclass\n",
    "class Stock:\n",
    "    name: str\n",
    "    current: float = 0.0\n",
    "    high: float = 0.0\n",
    "    low: float = 0.0\n",
    "    \n",
    "s1 = Stock('GOOG')\n",
    "print(s1)\n",
    "s2 = Stock('GOOG', 1826.77, 1847.20, 1012.54)\n",
    "print(s2)"
   ]
  }
 ],
 "metadata": {
  "kernelspec": {
   "display_name": "Python 3",
   "language": "python",
   "name": "python3"
  },
  "language_info": {
   "codemirror_mode": {
    "name": "ipython",
    "version": 3
   },
   "file_extension": ".py",
   "mimetype": "text/x-python",
   "name": "python",
   "nbconvert_exporter": "python",
   "pygments_lexer": "ipython3",
   "version": "3.10.11"
  }
 },
 "nbformat": 4,
 "nbformat_minor": 2
}
