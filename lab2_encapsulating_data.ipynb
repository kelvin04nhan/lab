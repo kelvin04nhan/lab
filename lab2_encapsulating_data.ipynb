{
 "cells": [
  {
   "cell_type": "code",
   "execution_count": 2,
   "metadata": {},
   "outputs": [
    {
     "name": "stdout",
     "output_type": "stream",
     "text": [
      "Hoa sen university\n",
      "Hoa sen university\n"
     ]
    }
   ],
   "source": [
    "class Student:\n",
    "    #thuộc tính/ biến của lớp, được chia sẻ cho tất cả instances\n",
    "    school = 'Hoa sen university'\n",
    "    def __init__(self, name, birthDate):\n",
    "        self.name = name\n",
    "        self.birthDate = birthDate\n",
    "# có thể truy xuất các thuộc tính qua tên lớp hoặc đối tượng\n",
    "print(Student.school)\n",
    "s1 = Student(\"Le Thanh Nhan\",'13/8/2023')\n",
    "print(s1.school)"
   ]
  },
  {
   "cell_type": "code",
   "execution_count": 1,
   "metadata": {},
   "outputs": [
    {
     "ename": "NameError",
     "evalue": "name 'Student' is not defined",
     "output_type": "error",
     "traceback": [
      "\u001b[1;31m---------------------------------------------------------------------------\u001b[0m",
      "\u001b[1;31mNameError\u001b[0m                                 Traceback (most recent call last)",
      "Cell \u001b[1;32mIn [1], line 1\u001b[0m\n\u001b[1;32m----> 1\u001b[0m \u001b[38;5;28mprint\u001b[39m(\u001b[43mStudent\u001b[49m\u001b[38;5;241m.\u001b[39mschool)\n\u001b[0;32m      2\u001b[0m s2 \u001b[38;5;241m=\u001b[39m Student(\u001b[38;5;124m'\u001b[39m\u001b[38;5;124mLe Thanh Nhan\u001b[39m\u001b[38;5;124m'\u001b[39m,\u001b[38;5;124m'\u001b[39m\u001b[38;5;124m13/8/2004\u001b[39m\u001b[38;5;124m'\u001b[39m)\n\u001b[0;32m      3\u001b[0m \u001b[38;5;28mprint\u001b[39m(s2\u001b[38;5;241m.\u001b[39mschool)\n",
      "\u001b[1;31mNameError\u001b[0m: name 'Student' is not defined"
     ]
    }
   ],
   "source": [
    "print(Student.school)\n",
    "s2 = Student('Le Thanh Nhan','13/8/2004')\n",
    "print(s2.school)\n",
    "# Thay đổi giá trị của thuộc tính lớp\n",
    "Student.school = \"HSU\"\n",
    "print(Student.school)\n",
    "print(s2.school)"
   ]
  },
  {
   "cell_type": "code",
   "execution_count": 7,
   "metadata": {},
   "outputs": [
    {
     "name": "stdout",
     "output_type": "stream",
     "text": [
      "Citizen ID: 1234567890 | Student ID: 0220123 | Name: Le Thanh Nhan\n",
      "1234567890\n"
     ]
    },
    {
     "ename": "AttributeError",
     "evalue": "'Student' object has no attribute '__studentId'",
     "output_type": "error",
     "traceback": [
      "\u001b[1;31m---------------------------------------------------------------------------\u001b[0m",
      "\u001b[1;31mAttributeError\u001b[0m                            Traceback (most recent call last)",
      "\u001b[1;32mc:\\Users\\PC ASUS\\Desktop\\workspace\\Python\\Python OOP\\laboratory\\lab2_encapsulating_data.ipynb Cell 3\u001b[0m line \u001b[0;36m2\n\u001b[0;32m     <a href='vscode-notebook-cell:/c%3A/Users/PC%20ASUS/Desktop/workspace/Python/Python%20OOP/laboratory/lab2_encapsulating_data.ipynb#W2sZmlsZQ%3D%3D?line=22'>23</a>\u001b[0m \u001b[39mprint\u001b[39m(s\u001b[39m.\u001b[39m_citizenId)\n\u001b[0;32m     <a href='vscode-notebook-cell:/c%3A/Users/PC%20ASUS/Desktop/workspace/Python/Python%20OOP/laboratory/lab2_encapsulating_data.ipynb#W2sZmlsZQ%3D%3D?line=24'>25</a>\u001b[0m \u001b[39m# truy cập thuộc tính private\u001b[39;00m\n\u001b[1;32m---> <a href='vscode-notebook-cell:/c%3A/Users/PC%20ASUS/Desktop/workspace/Python/Python%20OOP/laboratory/lab2_encapsulating_data.ipynb#W2sZmlsZQ%3D%3D?line=25'>26</a>\u001b[0m \u001b[39mprint\u001b[39m(s\u001b[39m.\u001b[39;49m__studentId)\n",
      "\u001b[1;31mAttributeError\u001b[0m: 'Student' object has no attribute '__studentId'"
     ]
    }
   ],
   "source": [
    "class Person:\n",
    "    def __init__(self, citizenId):\n",
    "        # Thuoock tính protected\n",
    "        self._citizenId = citizenId\n",
    "        \n",
    "class Student(Person):\n",
    "    def __init__(self, citizenID, studentId, name):\n",
    "        super().__init__(citizenID)\n",
    "        # thuộc tính private\n",
    "        self.__studentId = studentId\n",
    "        self.__name = name\n",
    "    def getInfo(self):\n",
    "        info = 'Citizen ID: '+ self._citizenId \\\n",
    "            + \" | Student ID: \" + self.__studentId \\\n",
    "            + \" | Name: \"+ self.__name\n",
    "        return info\n",
    "    \n",
    "# test\n",
    "s = Student(\"1234567890\", \"0220123\", \"Le Thanh Nhan\")\n",
    "print(s.getInfo())\n",
    "\n",
    "# truye cập thuộc tính protected\n",
    "print(s._citizenId)\n",
    "\n",
    "# truy cập thuộc tính private\n",
    "print(s.__studentId)\n",
    "        "
   ]
  },
  {
   "cell_type": "code",
   "execution_count": 9,
   "metadata": {},
   "outputs": [
    {
     "name": "stdout",
     "output_type": "stream",
     "text": [
      "Tran Van Thanh\n",
      "Nguyen Van Binh\n"
     ]
    }
   ],
   "source": [
    "#using property getters and setters\n",
    "class Student:\n",
    "    def __init__(self, name):\n",
    "        self.__name = name #thuộc tính prvate\n",
    "        \n",
    "    def getName(self): #getter\n",
    "        return self.__name\n",
    "    \n",
    "    def setName(self, name): #setter\n",
    "        self.__name = name\n",
    "    \n",
    "s = Student(\"Tran Van Thanh\")\n",
    "print(s.getName())\n",
    "s.setName(\"Nguyen Van Binh\")\n",
    "print(s.getName())"
   ]
  },
  {
   "cell_type": "code",
   "execution_count": 10,
   "metadata": {},
   "outputs": [
    {
     "name": "stdout",
     "output_type": "stream",
     "text": [
      "Tran Van Thanh\n"
     ]
    }
   ],
   "source": [
    "#using property\n",
    "#read - only properties\n",
    "class Student:\n",
    "    def __init__(self, name):\n",
    "        self.__name = name\n",
    "        \n",
    "    def getName(self):\n",
    "        return self.__name\n",
    "    \n",
    "    \n",
    "s = Student('Tran Van Thanh')\n",
    "print(s.getName())\n",
    "        \n",
    "    "
   ]
  },
  {
   "cell_type": "code",
   "execution_count": 12,
   "metadata": {},
   "outputs": [
    {
     "name": "stdout",
     "output_type": "stream",
     "text": [
      "Tran Van Thanh\n"
     ]
    }
   ],
   "source": [
    "#using property\n",
    "#read - only properties\n",
    "class Student:\n",
    "    def __init__(self, name):\n",
    "        self.__name = name\n",
    "    @property\n",
    "    def name(self):\n",
    "        return self.__name\n",
    "    @name.setter\n",
    "    def name(self, name):\n",
    "        self.__name = name\n",
    "    \n",
    "s = Student('Tran Van Thanh')\n",
    "\n",
    "print(s.name)        \n",
    "    "
   ]
  },
  {
   "cell_type": "code",
   "execution_count": 15,
   "metadata": {},
   "outputs": [
    {
     "name": "stdout",
     "output_type": "stream",
     "text": [
      "3\n",
      "3\n"
     ]
    }
   ],
   "source": [
    "class Student:\n",
    "    # biến lớp (class vảiable) được chia sẻ cho tất cả đối tượng isinstance của lớp\n",
    "    __numberOfStudents = 0\n",
    "    def __init__(self, name):\n",
    "        self.__name = name # thuộc tính private\n",
    "        Student.__numberOfStudents += 1\n",
    "        \n",
    "    # using property decorator\n",
    "    @property\n",
    "    def name(self):\n",
    "        return self.__name\n",
    "    # Hàm lớp (class method) - @classmethod decorator\n",
    "    # tham số đầu tiên là lớp cls để truy xuất đến chỉnh lớp được goi\n",
    "    # không còn tham số là dối tượng self\n",
    "    @classmethod\n",
    "    def getNumberOfStudent(cls):\n",
    "        return cls.__numberOfStudents\n",
    "    \n",
    "#test\n",
    "s1 = Student(\"Le Thanh Nhan\")\n",
    "s2 = Student('Le Thanh Dat')\n",
    "s3 = Student(\"Pham Tan Dat\")\n",
    "print(s1.getNumberOfStudent())\n",
    "print(Student.getNumberOfStudent())"
   ]
  },
  {
   "cell_type": "code",
   "execution_count": 17,
   "metadata": {},
   "outputs": [
    {
     "name": "stdout",
     "output_type": "stream",
     "text": [
      "2\n"
     ]
    }
   ],
   "source": [
    "# sử dụng lớp classmethod (thay vì decorator)\n",
    "class Student:\n",
    "    # class variable được chia sẻ cho tất cả đối tượng (instance) của lớp\n",
    "    __numberOfStudents = 0\n",
    "    \n",
    "    def __init__(self, name):\n",
    "        self.__name = name\n",
    "        Student.__numberOfStudents += 1 # đém số đối tượng được tạo\n",
    "        \n",
    "    def getNumberOfStudents(cls):\n",
    "        return cls.__numberOfStudents\n",
    "    \n",
    "    # chuyển getNumberOfStudents() thành class method\n",
    "    getNumberOfStudents = classmethod(getNumberOfStudents)\n",
    "    \n",
    "    \n",
    "'''Test'''\n",
    "s1 = Student('Le Thanh Nhan')\n",
    "s2 = Student('Le Thanh Dat')\n",
    "print(s1.getNumberOfStudents())"
   ]
  },
  {
   "cell_type": "code",
   "execution_count": 29,
   "metadata": {},
   "outputs": [
    {
     "name": "stdout",
     "output_type": "stream",
     "text": [
      "Number of students: 2\n",
      "name: Le Thanh Nhan\n",
      "2\n"
     ]
    }
   ],
   "source": [
    "# error : why? vì displayInfo là hàm của instance not class we can debug by add @classmethod on the top\n",
    "class Student:\n",
    "    __numberOfStudents = 0\n",
    "    def __init__(self, name):\n",
    "        self.__name = name # thuộc tính private\n",
    "        Student.__numberOfStudents += 1# đếm sosos đối tượng đucơ tạo\n",
    "    \n",
    "    def displayInfo(self):\n",
    "        print('Number of students:',Student.__numberOfStudents)\n",
    "        print('name:', self.__name)\n",
    "        \n",
    "    @classmethod\n",
    "    def displayClassInfo(cls):\n",
    "        print(cls.__numberOfStudents)\n",
    "        \n",
    "# test\n",
    "s1 = Student('Le Thanh Nhan')\n",
    "s2 = Student('Le Thanh Dat')\n",
    "s1.displayInfo()\n",
    "Student.displayClassInfo()"
   ]
  },
  {
   "cell_type": "code",
   "execution_count": 31,
   "metadata": {},
   "outputs": [
    {
     "name": "stdout",
     "output_type": "stream",
     "text": [
      "Number of students: 2\n",
      "None\n"
     ]
    },
    {
     "data": {
      "text/plain": [
       "'Tran Van THanh'"
      ]
     },
     "execution_count": 31,
     "metadata": {},
     "output_type": "execute_result"
    }
   ],
   "source": [
    "# error: bị sai vì __name là attribute của instance not class\n",
    "class Student:\n",
    "    __numberOfStudents = 0\n",
    "    def __init__(self, name):\n",
    "        self.__name = name # thuộc tính private\n",
    "        Student.__numberOfStudents += 1# đếm sosos đối tượng đucơ tạo\n",
    "    def displayNameInfo(self):\n",
    "        return self.__name\n",
    "        \n",
    "    @classmethod\n",
    "    def displayInfo(cls):\n",
    "        print('Number of students:',cls.__numberOfStudents)\n",
    "        \n",
    "        \n",
    "    # chuyển displayInfo() thành class method\n",
    "    displayInfo = classmethod(displayInfo)\n",
    "    \n",
    "    \n",
    "s1 = Student(\"Tran Van THanh\")\n",
    "s2 = Student(\"Nguyen Van Binh\")\n",
    "print(s1.displayInfo())\n",
    "s1.displayNameInfo()"
   ]
  },
  {
   "cell_type": "code",
   "execution_count": 37,
   "metadata": {},
   "outputs": [
    {
     "name": "stdout",
     "output_type": "stream",
     "text": [
      "Ten sinh vien: Le Thanh Nhan | Nam sinh: 2004\n",
      "Tong so sinh vien: 1\n",
      "Tong so sinh vien: 1\n",
      "Tong so sinh vien: 2\n",
      "Tong so sinh vien: 2\n"
     ]
    }
   ],
   "source": [
    "class SinhVien:\n",
    "    tongSoSinhVien = 0\n",
    "    \n",
    "    def __init__(self, ten = 'No Name', namSinh = 2000):\n",
    "        self.ten = ten\n",
    "        self.namSinh = namSinh\n",
    "        SinhVien.tongSoSinhVien += 1\n",
    "    def inThongTin(self):\n",
    "        print('Ten sinh vien:',self.ten, \"| Nam sinh:\",self.namSinh )\n",
    "# hàm tĩnh (static method)\n",
    "# Lưu ý: decorator @statimethod, không có tham số mặc định self\n",
    "    @staticmethod\n",
    "    def inTongSoSinhVien():\n",
    "        print(\"Tong so sinh vien:\",SinhVien.tongSoSinhVien)\n",
    "        \n",
    "    @classmethod\n",
    "    def inTongSoSinhVien1(cls):\n",
    "        print('Tong so sinh vien:',cls.tongSoSinhVien)\n",
    "        \n",
    "        \n",
    "'''Kiem tra viec tao va truy cap cac thuoc tinh cua doi tuog'''\n",
    "def test1():\n",
    "    s1 = SinhVien('Le Thanh Nhan',2004)\n",
    "    s1.inThongTin()\n",
    "    \n",
    "    #gọi hàm tĩnh của lớp qua đối tượng\n",
    "    s1.inTongSoSinhVien()\n",
    "    #gọi hàm tĩnh của lớp qua tên lớp\n",
    "    \n",
    "    SinhVien.inTongSoSinhVien()\n",
    "    \n",
    "    #Gọi hàm lớp qua tên lớp\n",
    "    s2 = SinhVien('Le Thanh Nhan',2004)\n",
    "    s1.inTongSoSinhVien1()\n",
    "    SinhVien.inTongSoSinhVien1()\n",
    "    \n",
    "test1()"
   ]
  },
  {
   "cell_type": "code",
   "execution_count": 34,
   "metadata": {},
   "outputs": [
    {
     "name": "stdout",
     "output_type": "stream",
     "text": [
      "Ten sinh vien: Le Thanh Nhan | Nam sinh: 2004\n",
      "Tong so sinh vien: 1\n",
      "Tong so sinh vien: 1\n",
      "Tong so sinh vien: 2\n",
      "Tong so sinh vien: 2\n"
     ]
    }
   ],
   "source": [
    "class SinhVien:\n",
    "    tongSoSinhVien = 0\n",
    "\n",
    "    def __init__(self, ten='No Name', namSinh=2000):\n",
    "        self.ten = ten\n",
    "        self.namSinh = namSinh\n",
    "        SinhVien.tongSoSinhVien += 1\n",
    "\n",
    "    def inThongTin(self):\n",
    "        print('Ten sinh vien:', self.ten, \"| Nam sinh:\", self.namSinh)\n",
    "\n",
    "    # hàm tĩnh (static method)\n",
    "    # Lưu ý: decorator @staticmethod, không có tham số mặc định self\n",
    "    @staticmethod\n",
    "    def inTongSoSinhVien():\n",
    "        print(\"Tong so sinh vien:\", SinhVien.tongSoSinhVien)\n",
    "\n",
    "    @classmethod\n",
    "    def inTongSoSinhVien1(cls):\n",
    "        print('Tong so sinh vien:', cls.tongSoSinhVien)\n",
    "\n",
    "\n",
    "# Kiem tra viec tao va truy cap cac thuoc tinh cua doi tuog\n",
    "def test1():\n",
    "    s1 = SinhVien('Le Thanh Nhan', 2004)\n",
    "    s1.inThongTin()\n",
    "\n",
    "    # gọi hàm tĩnh của lớp qua đối tượng\n",
    "    s1.inTongSoSinhVien()\n",
    "\n",
    "    # gọi hàm tĩnh của lớp qua tên lớp\n",
    "    SinhVien.inTongSoSinhVien()\n",
    "\n",
    "    # Gọi hàm lớp qua đối tượng\n",
    "    s2 = SinhVien('Le Thanh Nhan', 2004)\n",
    "    s1.inTongSoSinhVien1()\n",
    "\n",
    "    # Gọi hàm lớp qua tên lớp\n",
    "    SinhVien.inTongSoSinhVien1()\n",
    "\n",
    "\n",
    "test1()\n"
   ]
  }
 ],
 "metadata": {
  "kernelspec": {
   "display_name": "base",
   "language": "python",
   "name": "python3"
  },
  "language_info": {
   "codemirror_mode": {
    "name": "ipython",
    "version": 3
   },
   "file_extension": ".py",
   "mimetype": "text/x-python",
   "name": "python",
   "nbconvert_exporter": "python",
   "pygments_lexer": "ipython3",
   "version": "3.10.11"
  }
 },
 "nbformat": 4,
 "nbformat_minor": 2
}
